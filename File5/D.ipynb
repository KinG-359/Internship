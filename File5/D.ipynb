{
 "cells": [
  {
   "cell_type": "code",
   "execution_count": 2,
   "id": "ae68091b",
   "metadata": {},
   "outputs": [],
   "source": [
    "import regex as re\n"
   ]
  },
  {
   "cell_type": "code",
   "execution_count": null,
   "id": "01b7b95a",
   "metadata": {},
   "outputs": [],
   "source": [
    "Q-1"
   ]
  },
  {
   "cell_type": "code",
   "execution_count": 14,
   "id": "7973b5fd",
   "metadata": {},
   "outputs": [
    {
     "name": "stdout",
     "output_type": "stream",
     "text": [
      "52\n"
     ]
    }
   ],
   "source": [
    "string=\"Vikas Dubey is Encountered By Police in Age of 52 Years\"\n",
    "pattern=\"\\d+\"\n",
    "match=re.search(pattern,string)\n",
    "\n",
    "print(match.group())\n",
    "\n",
    "\n",
    "\n"
   ]
  },
  {
   "cell_type": "code",
   "execution_count": 31,
   "id": "1671590c",
   "metadata": {},
   "outputs": [
    {
     "name": "stdout",
     "output_type": "stream",
     "text": [
      "['i', 'k', 'a', 's', 'u', 'b', 'e', 'y', 'i', 's', 'n', 'c', 'o', 'u', 'n', 't', 'e', 'r', 'e', 'd', 'y', 'o', 'l', 'i', 'c', 'e', 'i', 'n', 'g', 'e', 'o', 'f', 'e', 'a', 'r', 's']\n"
     ]
    }
   ],
   "source": [
    "match=re.findall(r\"[a-z]\",string)\n",
    "print(match)"
   ]
  },
  {
   "cell_type": "code",
   "execution_count": 24,
   "id": "45476b60",
   "metadata": {},
   "outputs": [
    {
     "name": "stdout",
     "output_type": "stream",
     "text": [
      "['V', 'D', 'E', 'B', 'P', 'A', 'Y']\n"
     ]
    }
   ],
   "source": [
    "match=re.findall(r\"[A-Z]\",string)\n",
    "print(match)"
   ]
  },
  {
   "cell_type": "markdown",
   "id": "1d0a98e0",
   "metadata": {},
   "source": [
    "Q-2"
   ]
  },
  {
   "cell_type": "code",
   "execution_count": 21,
   "id": "df58c779",
   "metadata": {},
   "outputs": [
    {
     "name": "stdout",
     "output_type": "stream",
     "text": [
      "Found a match!\n",
      "Not matched\n",
      "Not matched\n"
     ]
    }
   ],
   "source": [
    "import re\n",
    "def text_match(text):\n",
    "    pattern= '^a(b*)$'\n",
    "    if re.search(pattern,text):\n",
    "        return 'Found a match!'\n",
    "    else:\n",
    "        return ('Not matched')\n",
    "print(text_match('ab'))\n",
    "print(text_match('ac'))\n",
    "print(text_match('abasbdsab'))\n",
    "\n",
    "        "
   ]
  },
  {
   "cell_type": "markdown",
   "id": "33d2027e",
   "metadata": {},
   "source": [
    "Q-3"
   ]
  },
  {
   "cell_type": "code",
   "execution_count": 26,
   "id": "fb88d045",
   "metadata": {},
   "outputs": [
    {
     "name": "stdout",
     "output_type": "stream",
     "text": [
      "Found a match!\n",
      "Not matched\n",
      "Found a match!\n"
     ]
    }
   ],
   "source": [
    "import re\n",
    "def text_match(text):\n",
    "    pattern= 'ab+?'\n",
    "    if re.search(pattern,text):\n",
    "        return 'Found a match!'\n",
    "    else:\n",
    "        return ('Not matched')\n",
    "print(text_match('ab'))\n",
    "print(text_match('ac'))\n",
    "print(text_match('aabasbdsab'))\n"
   ]
  },
  {
   "cell_type": "code",
   "execution_count": null,
   "id": "1cf74b24",
   "metadata": {},
   "outputs": [],
   "source": []
  },
  {
   "cell_type": "code",
   "execution_count": null,
   "id": "e6d1be92",
   "metadata": {},
   "outputs": [],
   "source": []
  },
  {
   "cell_type": "markdown",
   "id": "0cad3e59",
   "metadata": {},
   "source": [
    "Q-6\n"
   ]
  },
  {
   "cell_type": "code",
   "execution_count": 1,
   "id": "71de18b4",
   "metadata": {},
   "outputs": [],
   "source": [
    "import regex as re"
   ]
  },
  {
   "cell_type": "code",
   "execution_count": 4,
   "id": "45dc1865",
   "metadata": {},
   "outputs": [
    {
     "name": "stdout",
     "output_type": "stream",
     "text": [
      "['India', 'Meaning', 'Is', 'Not', 'Bharat']\n"
     ]
    }
   ],
   "source": [
    "Text=\"IndiaMeaningIsNotBharat\"\n",
    "pattern=re.findall('[A-Z][^A-Z*]+',Text)\n",
    "print(pattern)              "
   ]
  },
  {
   "cell_type": "markdown",
   "id": "57c59506",
   "metadata": {},
   "source": [
    "Q-4"
   ]
  },
  {
   "cell_type": "code",
   "execution_count": 35,
   "id": "f6ec4fec",
   "metadata": {},
   "outputs": [
    {
     "name": "stdout",
     "output_type": "stream",
     "text": [
      "found a match!\n",
      "found a match!\n",
      "found a match!\n",
      "found a match!\n"
     ]
    }
   ],
   "source": [
    "import re\n",
    "import re\n",
    "def text_match(text):\n",
    "    pattern= 'ab{1}?'\n",
    "    if re.search(pattern,text):\n",
    "        return 'found a match!'\n",
    "    else: \n",
    "        return ('Not Matched!')\n",
    "    \n",
    "print(text_match(\"abbb\"))\n",
    "print(text_match(\"aabbbbbd\"))\n",
    "def text_match(text):\n",
    "    pattern= 'ab?'\n",
    "    if re.search(pattern,text):\n",
    "        return 'found a match!'\n",
    "    else: \n",
    "        return ('Not Matched!')\n",
    "    \n",
    "print(text_match(\"abbb\"))\n",
    "print(text_match(\"aabbbbbd\"))\n"
   ]
  },
  {
   "cell_type": "markdown",
   "id": "bcf70cc0",
   "metadata": {},
   "source": [
    "Q-5"
   ]
  },
  {
   "cell_type": "code",
   "execution_count": 6,
   "id": "57efaaae",
   "metadata": {},
   "outputs": [
    {
     "name": "stdout",
     "output_type": "stream",
     "text": [
      "found a match!\n",
      "found a match!\n"
     ]
    }
   ],
   "source": [
    "import re\n",
    "def text_match(text):\n",
    "    pattern= 'ab{3}?'\n",
    "    if re.search(pattern,text):\n",
    "        return 'found a match!'\n",
    "    else: \n",
    "        return ('Not Matched!')\n",
    "    \n",
    "print(text_match(\"abbb\"))\n",
    "print(text_match(\"aabbbbbd\"))\n",
    "    \n",
    "   \n",
    "    "
   ]
  },
  {
   "cell_type": "markdown",
   "id": "2f3bea9f",
   "metadata": {},
   "source": [
    "Q-7"
   ]
  },
  {
   "cell_type": "code",
   "execution_count": 29,
   "id": "0a71f595",
   "metadata": {},
   "outputs": [
    {
     "name": "stdout",
     "output_type": "stream",
     "text": [
      "found a match!\n",
      "found a match!\n"
     ]
    }
   ],
   "source": [
    "import re\n",
    "def text_match(text):\n",
    "    pattern= 'ab{2,3}?'\n",
    "    if re.search(pattern,text):\n",
    "        return 'found a match!'\n",
    "    else: \n",
    "        return ('Not Matched!')\n",
    "    \n",
    "print(text_match(\"abbb\"))\n",
    "print(text_match(\"aabbbbbd\"))"
   ]
  },
  {
   "cell_type": "markdown",
   "id": "4b0bd794",
   "metadata": {},
   "source": [
    "Q-8"
   ]
  },
  {
   "cell_type": "code",
   "execution_count": 34,
   "id": "3f34aa09",
   "metadata": {},
   "outputs": [
    {
     "name": "stdout",
     "output_type": "stream",
     "text": [
      "found a match!\n",
      "found a match!\n"
     ]
    }
   ],
   "source": [
    "import re\n",
    "def text_match(text):\n",
    "    pattern= '^[a-z]+_[a-z]+$'\n",
    "    if re.search(pattern,text):\n",
    "        return 'found a match!'\n",
    "    else: \n",
    "        return ('Not Matched!')\n",
    "    \n",
    "print(text_match(\"taj_mahal\"))\n",
    "print(text_match(\"aabbbbb_daaa\"))"
   ]
  },
  {
   "cell_type": "markdown",
   "id": "d3c96742",
   "metadata": {},
   "source": [
    "Q-9"
   ]
  },
  {
   "cell_type": "code",
   "execution_count": 39,
   "id": "997ad2e3",
   "metadata": {},
   "outputs": [
    {
     "name": "stdout",
     "output_type": "stream",
     "text": [
      "found a match!\n",
      "Not Matched!\n"
     ]
    }
   ],
   "source": [
    "import re\n",
    "def text_match(text):\n",
    "    pattern= '^a.*b$'\n",
    "    if re.search(pattern,text):\n",
    "        return 'found a match!'\n",
    "    else: \n",
    "        return ('Not Matched!')\n",
    "    \n",
    "print(text_match(\"aaacccb\"))\n",
    "print(text_match(\"aabbbbd\"))"
   ]
  },
  {
   "cell_type": "markdown",
   "id": "40f544a6",
   "metadata": {},
   "source": [
    "Q-10"
   ]
  },
  {
   "cell_type": "code",
   "execution_count": 2,
   "id": "e12eb489",
   "metadata": {},
   "outputs": [
    {
     "name": "stdout",
     "output_type": "stream",
     "text": [
      "Not Matched!\n",
      "found a match!\n"
     ]
    }
   ],
   "source": [
    "import re\n",
    "def text_match(text):\n",
    "    pattern= '^k'\n",
    "    if re.search(pattern,text):\n",
    "        return 'found a match!'\n",
    "    else: \n",
    "        return ('Not Matched!')\n",
    "    \n",
    "print(text_match(\"aaj kal \"))\n",
    "print(text_match(\"kal aaj\"))"
   ]
  },
  {
   "cell_type": "markdown",
   "id": "be1d5c1a",
   "metadata": {},
   "source": [
    "Q-11"
   ]
  },
  {
   "cell_type": "code",
   "execution_count": 14,
   "id": "14b3f200",
   "metadata": {},
   "outputs": [
    {
     "name": "stdout",
     "output_type": "stream",
     "text": [
      "Not Matched!\n",
      "found a match!\n"
     ]
    }
   ],
   "source": [
    "import re\n",
    "def text_match(text):\n",
    "    pattern= '^[a-zA-Z0-9_]*$'\n",
    "    if re.search(pattern,text):\n",
    "        return 'found a match!'\n",
    "    else: \n",
    "        return ('Not Matched!')\n",
    "    \n",
    "print(text_match(\"Jaiswal makes His Test Debut against westindies.\"))\n",
    "print(text_match(\"Python_Regexproject_2\"))"
   ]
  },
  {
   "cell_type": "markdown",
   "id": "2018e136",
   "metadata": {},
   "source": [
    "Q-12"
   ]
  },
  {
   "cell_type": "code",
   "execution_count": 19,
   "id": "2f76fe9a",
   "metadata": {},
   "outputs": [
    {
     "name": "stdout",
     "output_type": "stream",
     "text": [
      "found a match!\n",
      "Not Matched!\n"
     ]
    }
   ],
   "source": [
    "import re\n",
    "def text_match(text):\n",
    "    pattern= '^3'\n",
    "    if re.search(pattern,text):\n",
    "        return 'found a match!'\n",
    "    else: \n",
    "        return ('Not Matched!')\n",
    "    \n",
    "print(text_match(\"3 batsman Jaiswal in debut makes 100 in his first test.\"))\n",
    "print(text_match(\"Python_Regexproject_2\"))"
   ]
  },
  {
   "cell_type": "markdown",
   "id": "72a1adaf",
   "metadata": {},
   "source": []
  },
  {
   "cell_type": "markdown",
   "id": "2dd260ee",
   "metadata": {},
   "source": [
    "Q-15"
   ]
  },
  {
   "cell_type": "code",
   "execution_count": 26,
   "id": "e9f140c4",
   "metadata": {},
   "outputs": [
    {
     "name": "stdout",
     "output_type": "stream",
     "text": [
      "Searching for \"fox\" in \"The quick brown fox jumps over the lazy dog.\" ->\n",
      "Matched!\n",
      "Searching for \"dog\" in \"The quick brown fox jumps over the lazy dog.\" ->\n",
      "Matched!\n",
      "Searching for \"horse\" in \"The quick brown fox jumps over the lazy dog.\" ->\n",
      "Not Matched!\n"
     ]
    }
   ],
   "source": [
    "import re\n",
    "Patterns=['fox', 'dog', 'horse']\n",
    "text='The quick brown fox jumps over the lazy dog.'\n",
    "for pattern in patterns:\n",
    "    print('Searching for \"%s\" in \"%s\" ->' % (pattern, text),)\n",
    "\n",
    "    if re.search(pattern,text):\n",
    "        print('Matched!')\n",
    "    else:\n",
    "        print('Not Matched!')\n",
    "\n"
   ]
  },
  {
   "cell_type": "code",
   "execution_count": null,
   "id": "907030bd",
   "metadata": {},
   "outputs": [],
   "source": []
  }
 ],
 "metadata": {
  "kernelspec": {
   "display_name": "Python 3 (ipykernel)",
   "language": "python",
   "name": "python3"
  },
  "language_info": {
   "codemirror_mode": {
    "name": "ipython",
    "version": 3
   },
   "file_extension": ".py",
   "mimetype": "text/x-python",
   "name": "python",
   "nbconvert_exporter": "python",
   "pygments_lexer": "ipython3",
   "version": "3.10.9"
  }
 },
 "nbformat": 4,
 "nbformat_minor": 5
}
